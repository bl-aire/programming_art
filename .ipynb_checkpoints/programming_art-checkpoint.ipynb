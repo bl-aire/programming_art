{
 "cells": [
  {
   "cell_type": "markdown",
   "id": "d173d86e-c29e-409f-b93f-f81a47b1ba2e",
   "metadata": {},
   "source": [
    "## Exploring the concept of Computational notebooks and finally getting an opportunity to merge programming with my art"
   ]
  },
  {
   "cell_type": "markdown",
   "id": "a71b3a54-3fa1-437f-a493-f409d3785b5c",
   "metadata": {},
   "source": [
    "### Introduction\n",
    "\n",
    "My programming journey is one that has been filled with a lot of highs and lows because I have been learning how to code using the self-taught route. I am grateful for both moments because they have helped shape me into who I am and still aim to grow to be.\n",
    "\n",
    "One of my highs so far has been interning with JupyterHub. This opportunity introduced me to a whole new world and opened my mind to opportunities I never knew existed. I chose to intern with JupyterHub because its project for the 2022 Fall cohort of Outreachy was to improve its accessibility and this is a topic I am very passionate about."
   ]
  },
  {
   "cell_type": "markdown",
   "id": "5a112ba6-d205-430d-b03f-4bc8091d873d",
   "metadata": {},
   "source": [
    "### Getting introduced to Jupyter's community"
   ]
  },
  {
   "cell_type": "code",
   "execution_count": null,
   "id": "a283b61a-63c2-4128-b079-3bb5f9370bb1",
   "metadata": {},
   "outputs": [],
   "source": []
  }
 ],
 "metadata": {
  "kernelspec": {
   "display_name": "Python 3 (ipykernel)",
   "language": "python",
   "name": "python3"
  },
  "language_info": {
   "codemirror_mode": {
    "name": "ipython",
    "version": 3
   },
   "file_extension": ".py",
   "mimetype": "text/x-python",
   "name": "python",
   "nbconvert_exporter": "python",
   "pygments_lexer": "ipython3",
   "version": "3.11.0"
  }
 },
 "nbformat": 4,
 "nbformat_minor": 5
}

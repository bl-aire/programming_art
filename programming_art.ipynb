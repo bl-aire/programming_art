{
 "cells": [
  {
   "cell_type": "markdown",
   "id": "d173d86e-c29e-409f-b93f-f81a47b1ba2e",
   "metadata": {},
   "source": [
    "## Exploring the concept of Computational notebooks and finally getting an opportunity to merge programming with my art"
   ]
  },
  {
   "cell_type": "markdown",
   "id": "a71b3a54-3fa1-437f-a493-f409d3785b5c",
   "metadata": {},
   "source": [
    "### Introduction\n",
    "\n",
    "My programming journey is one that has been filled with a lot of highs and lows because I have been learning how to code using the self-taught route. I am grateful for both moments because they have helped shape me into who I am and still aim to grow to be.\n",
    "\n",
    "One of my highs so far has been interning with JupyterHub. This opportunity introduced me to a whole new world and opened my mind to opportunities I never knew existed. I chose to intern with JupyterHub because its project for the 2022 Fall cohort of Outreachy was to improve its accessibility and this is a topic I am very passionate about."
   ]
  },
  {
   "cell_type": "markdown",
   "id": "5a112ba6-d205-430d-b03f-4bc8091d873d",
   "metadata": {},
   "source": [
    "### Getting introduced to Computational notebooks\n",
    "\n",
    "Initially, I was confusused as I got to hear terms like:\n",
    "\n",
    "- jupyterhub\n",
    "- jupyterlab\n",
    "- nbconverter\n",
    "- notebook etc\n",
    "\n",
    "I researched on each of them but got even more confused and the fact that I am proficient with frontend and not backend technologies did not help at the time. So to me, these were just **products**."
   ]
  },
  {
   "cell_type": "markdown",
   "id": "9b0ada90-272f-46ca-979a-903564032970",
   "metadata": {},
   "source": [
    "### Understanding Computational notebooks\n",
    "\n",
    "In the past weeks, I have gotten to understand the **concept** of computational notebooks by attending a series of classes and actively carrying out tasks organized by a mentor whom I respect and to whom I am grateful for his help and guidiance.\n",
    "\n",
    "In weeks,\n",
    "\n",
    "- I have gone from seeing notebooks as just products to concepts\n",
    "- With my knowledge now, I am in a better position to make contributions to projects\n",
    "- And, I see more opportunities available for me to continue building my career\n",
    "- I also got the opportunity to merge my art (polymer clay sculpting) with programming"
   ]
  },
  {
   "cell_type": "markdown",
   "id": "a3cda9f2-e057-4b4d-9a34-f30a6dea32ab",
   "metadata": {},
   "source": [
    "### Programming and my art\n",
    "\n",
    "For my last task, I decided to recreate an art piece done using ipycanvas with polymer clay. Pictures of the code and my art can be seen below: \n",
    "\n",
    "**ipycanvas art:**\n",
    "\n",
    "\n",
    "<img src=\"./img.webp\" height=\"200px\" width=\"400px\" alt=\"screenshot of code with its cloud art created using ipycanvas widget\">\n",
    "\n",
    "\n",
    "**Polymer clay art:**\n",
    "\n",
    "\n",
    "<img src=\"./mug.jpeg\" height=\"200px\" width=\"400px\" alt=\"screenshot of code with its cloud art created using ipycanvas widget\">"
   ]
  },
  {
   "cell_type": "markdown",
   "id": "22e8b073-6784-44c9-8c94-486feb5d0815",
   "metadata": {},
   "source": [
    "### What happens now?\n",
    "\n",
    "With the knowlegde I have now, I plan to continue contributing to jupyter community and grow as I keep learning. Also, if presented with the opportunity, I want to teach people what I know about Frontend development, Accessibility and Computational notebooks."
   ]
  },
  {
   "cell_type": "code",
   "execution_count": null,
   "id": "8f723cbb-5535-48de-a844-f7fb296f9a1c",
   "metadata": {},
   "outputs": [],
   "source": []
  }
 ],
 "metadata": {
  "kernelspec": {
   "display_name": "Python 3 (ipykernel)",
   "language": "python",
   "name": "python3"
  },
  "language_info": {
   "codemirror_mode": {
    "name": "ipython",
    "version": 3
   },
   "file_extension": ".py",
   "mimetype": "text/x-python",
   "name": "python",
   "nbconvert_exporter": "python",
   "pygments_lexer": "ipython3",
   "version": "3.11.0"
  }
 },
 "nbformat": 4,
 "nbformat_minor": 5
}
